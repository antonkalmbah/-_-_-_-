{
 "cells": [
  {
   "cell_type": "markdown",
   "metadata": {},
   "source": [
    "# Чат-бот в 30 строчек кода\n",
    "\n",
    "Чат-боты — один из самых популярных трендов последних лет. И неудивительно: мы не расстаемся со смартфонами, при этом большая часть экранного времени уходит на соцсети и мессенджеры. Это значит, что общаться с клиентами и пользователями удобнее всего именно там. Несмотря на то, что это большая и нетривиальная тема, для создания простейшего чат-бота в телеграме нужно не больше 30-35 строчек кода!\n",
    "\n",
    "## Telegram API\n",
    "\n",
    "Как и у любого уважающего себя сервиса, у телеграма есть API *(application program interface)* — специальный набор инструментов для взаимодействия с программой, а не с живым пользователем. Вот [официальная страница](https://core.telegram.org/bots/api) с  его документацией. \n",
    "\n",
    "Для популярных API обычно можно найти «обертки» на разных языках программирования. Обертка — это набор функций, которые собирают запросы, отправляют их, получают и интерпретируют ответы и т.д. — иными словами, облегчают работу с API. Существует довольно много питоновских оберток для телеграма: \n",
    "* [python-telegram-bot](https://github.com/python-telegram-bot/python-telegram-bot)\n",
    "* [telepot](https://github.com/nickoala/telepot)\n",
    "* [pyTelegramBotAPI](https://github.com/eternnoir/pyTelegramBotAPI). \n",
    "\n",
    "Мы будем работать с последней из них — `pyTelegramBotAPI`. Эту библиотеку необходимо установить, написав в терминале `pip install pyTelegramBotAPI` или запустив следующую ячейку."
   ]
  },
  {
   "cell_type": "code",
   "execution_count": 75,
   "metadata": {},
   "outputs": [],
   "source": [
    "!pip install pyTelegramBotAPI"
   ]
  },
  {
   "cell_type": "markdown",
   "metadata": {},
   "source": [
    "## API Token\n",
    "\n",
    "Чтобы создать бота, нам необходимо получить уникальный токен. Как это сделать?\n",
    "\n",
    "1. Если нет аккаунта в телеграме, то нужно зарегистрироваться — https://web.telegram.org (для этого нужно ввести номер телефона, получить смс с кодом и ввести код на странице подтверждения номера)\n",
    "\n",
    "2. Затем нужно начать чат с крестным отцом всех ботов — https://t.me/BotFather.\n",
    "\n",
    "  * Отправляем ему команду `/newbot`\n",
    "  * Вводим имя бота — то, что будет отображаться как имя всем, кто с нашим ботом потом будет общаться\n",
    "  * Вводим юзернейм бота — он должен заканчиваться на `bot` или `Bot` и быть уникальным.\n",
    "  * Получаем API токен, уникальный для нашего бота. Если у вас несколько ботов, то у каждого будет свой API-токен!\n",
    "\n",
    "<img src=\"./img/botfather.png\" width=\"550\" align=\"left\">\n",
    "<img src=\"./img/get_token.png\" width=\"550\" align=\"left\">"
   ]
  },
  {
   "cell_type": "markdown",
   "metadata": {},
   "source": [
    "**NB!** Логины, пароли, секретные токены и т.п. лучше хранить в отдельном файле и ни в коем случае не выкладывать в открытый доступ! Создадим в рабочей папке питоновский файл (например, `conf.py`) и запишем туда токен:\n",
    "    \n",
    "  `TOKEN = \"...\"`\n",
    "  \n",
    "В основной файл с кодом бота конфиги можно импортировать строчкой `import conf`, как любую библиотеку. Тогда переменная `TOKEN` будет доступна внутри основной программы как `conf.TOKEN`.\n",
    "\n",
    "Если вы работаете в колабе, просто запустите следующую ячейку и вставьте в строку ввода ваш токен, а затем нажмите `Enter`."
   ]
  },
  {
   "cell_type": "code",
   "execution_count": 76,
   "metadata": {},
   "outputs": [],
   "source": [
    "with open(\"conf.py\", \"w\", encoding=\"utf-8\") as f:\n",
    "    f.write('TOKEN = \"%s\"' % input())"
   ]
  },
  {
   "cell_type": "markdown",
   "metadata": {},
   "source": [
    "## Онегин-бот\n",
    "\n",
    "Отлично, теперь можно переходить к самому интересному — к написанию логики бота! Допустим, мы хотим, чтобы он умел:\n",
    "\n",
    "1. Присылать пользователю случайные цитаты из определенного текста;\n",
    "2. Делать полнотекстовый поиск и отправлять цитаты с заданным словом или фразой.\n",
    "\n",
    "Для начала импортируем нужные библиотеки и напишем две вспомогательные функции:\n",
    "1. `random_quote`, которая возвращает случайный элемент из списка.\n",
    "2. `get_sentences`, которая читает текст из файла, разбививает его на предложения и возвращает список этих предложений. Обязательный аргумент — путь к текстовому файлу, необязательный — регулярное выражение для разбиения текста на предложения."
   ]
  },
  {
   "cell_type": "code",
   "execution_count": 65,
   "metadata": {},
   "outputs": [],
   "source": [
    "import re\n",
    "import conf\n",
    "import random\n",
    "import telebot"
   ]
  },
  {
   "cell_type": "code",
   "execution_count": 70,
   "metadata": {},
   "outputs": [],
   "source": [
    "def random_quote(sents):\n",
    "    i = random.randint(0, len(sents)-1)\n",
    "    return sents[i]\n",
    "\n",
    "def get_sentences(path, regex=\".*?[.!?]\\s\"):\n",
    "    s = re.compile(regex, re.DOTALL)\n",
    "    with open(path, \"r\", encoding=\"utf-8\") as f:\n",
    "        sents = s.findall(f.read())\n",
    "    return sents"
   ]
  },
  {
   "cell_type": "markdown",
   "metadata": {},
   "source": [
    "В качестве примера возьмем «Евгения Онегина» — уж у Пушкина-то точно найдутся строчки на все случаи жизни! А вообще можете использовать любые данные, которые вам нравятся — от текстов песен любимой группы до архива новостей местной газеты. Главное условие, чтобы это был файл формата `.txt` с кодировкой `utf-8`."
   ]
  },
  {
   "cell_type": "code",
   "execution_count": 7,
   "metadata": {},
   "outputs": [],
   "source": [
    "sents = get_sentences(\"onegin.txt\")"
   ]
  },
  {
   "cell_type": "markdown",
   "metadata": {},
   "source": [
    "Создаем экземпляр бота, используя наш секретный токен."
   ]
  },
  {
   "cell_type": "code",
   "execution_count": 66,
   "metadata": {},
   "outputs": [],
   "source": [
    "bot = telebot.TeleBot(conf.TOKEN)"
   ]
  },
  {
   "cell_type": "markdown",
   "metadata": {},
   "source": [
    "Теперь напишем **обработчики сообщений** *(message handlers)* — специальные функции, которые позволят боту реагировать на сообщения. В общем случае обработчик сообщений выглядит так:\n",
    "\n",
    "```python\n",
    "# декоратор, который указывает, что это обработчик сообщений\n",
    "@bot.message_handler(...)\n",
    "# определение функции\n",
    "def my_function(message):\n",
    "    # код, который генерирует ответ\n",
    "    reply = 'Привет!'\n",
    "    # код для отправки сообщения в чат\n",
    "    bot.send_message(message.chat.id, reply)\n",
    "```"
   ]
  },
  {
   "cell_type": "markdown",
   "metadata": {},
   "source": [
    "* `bot` — это имя переменной с нашим ботом;\n",
    "* `...` — фильтр (то, на какие сообщения будет реагировать функция)\n",
    "\n",
    "Фильтры бывают четырех типов:\n",
    "* `content_types`, значение — массив строк, задающих тип контента (текст, аудио, файл, стикер и т.д., по умолчанию ['text'])\n",
    "* `regexp`, значение — регулярное выражение (строка)\n",
    "* `commands`, значение — массив строк, задающих команды (без знака /)\n",
    "* `func`, значение — какая-либо функция\n",
    "\n",
    "Что происходит, когда боту приходит сообщение, подходящее под несколько разных фильтров, т.е. несколько разных функций? В этом случае запускается та функция, которая написана в коде раньше других. [Примеры обработчиков](https://github.com/eternnoir/pyTelegramBotAPI#message-handlers) можно найти в документации библиотеки.\n",
    "\n",
    "Для начала напишем функцию `send_quote`, которая по команде `\\send` будет отправлять пользователю случайную цитату, т.е. случайное предложение из текста. Для этого внутри `send_quote` вызовем функцию `random_quote` и передадим ей в качестве аргумента переменную `sents`, в которой лежит разбитый на предложения текст романа."
   ]
  },
  {
   "cell_type": "code",
   "execution_count": 68,
   "metadata": {},
   "outputs": [],
   "source": [
    "@bot.message_handler(commands=['send'])\n",
    "def send_quote(message):\n",
    "    bot.send_message(message.chat.id, random_quote(sents))"
   ]
  },
  {
   "cell_type": "markdown",
   "metadata": {},
   "source": [
    "Обработчик сообщений необязательно связан с какой-то командой. Например, можно написать такую функцию, которая будет реагировать на любое сообщение. Воспользуемся этим, чтобы реализовать поиск по тексту.\n",
    "\n",
    "Будем считать любое сообщение (кроме команд) поисковым запросом и искать в тексте точное совпадение без учета регистра — примерно как Ctrl+F/Сmd+F в текстовом редакторе или браузере. Если результатов окажется несколько, то выберем один из них с помощью все той же функции `random_quote`. Если же не найдется ничего, сообщим об этом пользователю."
   ]
  },
  {
   "cell_type": "code",
   "execution_count": 69,
   "metadata": {},
   "outputs": [],
   "source": [
    "@bot.message_handler(func=lambda m: True)\n",
    "def query_quote(message):\n",
    "    query = message.text\n",
    "    res = [sent for sent in sents if query.lower() in sent.lower()]\n",
    "    if len(res) != 0:\n",
    "        bot.send_message(message.chat.id, random_quote(res))\n",
    "    else:\n",
    "        bot.send_message(message.chat.id, \"Об этом Пушкин не писал!\")"
   ]
  },
  {
   "cell_type": "markdown",
   "metadata": {},
   "source": [
    "Теперь сделаем так, чтобы наш бот постоянно спрашивал сервера телеграма, не пришло ли ему новых сообщений. Параметр `none_stop=True` означает, что при возникновении ошибок бот должен стараться не прекращать работу."
   ]
  },
  {
   "cell_type": "code",
   "execution_count": 71,
   "metadata": {},
   "outputs": [],
   "source": [
    "if __name__ == '__main__':\n",
    "    bot.polling(none_stop=True)"
   ]
  },
  {
   "cell_type": "markdown",
   "metadata": {},
   "source": [
    "Соберем весь код в одной ячейке. Чтобы бот заработал, нужно просто запустить ее, или же скопировать код в отдельный питоновский файл (например, `bot.py`) и запустить его в терминале командой `python bot.py`. Не забудьте, что во втором случае\n",
    "\n",
    "1. в одной папке с `bot.py` должны лежать файлы `conf.py` и `onegin.txt` (или тот текст, с которым вы работаете);\n",
    "2. в терминале вам нужно либо перейти в эту папку, либо указать полный путь к файлу `bot.py`;\n",
    "3. на старых маках вместо `python` возможно придется написать `python3`.\n",
    "\n",
    "<img src=\"./img/terminal.png\" width=\"400\" align=\"left\">"
   ]
  },
  {
   "cell_type": "code",
   "execution_count": 1,
   "metadata": {},
   "outputs": [],
   "source": [
    "import re\n",
    "import conf\n",
    "import random\n",
    "import telebot\n",
    "\n",
    "def get_sentences(path, regex=\".*?[.!?]\\s\"):\n",
    "    with open(path, \"r\", encoding=\"utf-8\") as f:\n",
    "        sents = re.findall(regex, f.read(), re.DOTALL)\n",
    "    return sents\n",
    "\n",
    "def random_quote(sents):\n",
    "    i = random.randint(0, len(sents)-1)\n",
    "    return sents[i]\n",
    "\n",
    "bot = telebot.TeleBot(conf.TOKEN) \n",
    "sents = get_sentences(\"onegin.txt\")\n",
    "\n",
    "@bot.message_handler(commands=['send'])\n",
    "def send_quote(message):\n",
    "    bot.send_message(message.chat.id, random_quote(sents))\n",
    "    \n",
    "@bot.message_handler(func=lambda m: True) \n",
    "def query_quote(message):\n",
    "    query = message.text\n",
    "    res = [sent for sent in sents if query.lower() in sent.lower()]\n",
    "    if len(res) != 0:\n",
    "        bot.send_message(message.chat.id, random_quote(res))\n",
    "    else:\n",
    "        bot.send_message(message.chat.id, \"Об этом Пушкин не писал!\")\n",
    "\n",
    "if __name__ == '__main__':\n",
    "    bot.polling(none_stop=True)"
   ]
  },
  {
   "cell_type": "markdown",
   "metadata": {},
   "source": [
    "Теперь нашего бота можно найти в телеграме и написать ему! Он будет доступен, пока запущена программа.\n",
    "\n",
    "<img src=\"./img/send.png\" width=\"550\" align=\"left\">\n",
    "<img src=\"./img/search.png\" width=\"550\" align=\"left\">\n",
    "<img src=\"./img/not_found.png\" width=\"550\" align=\"left\">\n"
   ]
  },
  {
   "cell_type": "markdown",
   "metadata": {},
   "source": [
    "С помощью `@BotFather` можно настроить для нашего бота описание, список команд, аватарку и еще много чего.\n",
    "\n",
    "**Список команд**\n",
    "\n",
    "<img src=\"./img/setcommands.png\" width=\"500\" align=\"left\">\n"
   ]
  },
  {
   "cell_type": "markdown",
   "metadata": {},
   "source": [
    "Теперь, когда пользователь введет `\\` в чате с ботом, он увидит выплывающий список команд:\n",
    "\n",
    "<img src=\"./img/commands.png\" width=\"500\" align=\"left\">"
   ]
  },
  {
   "cell_type": "markdown",
   "metadata": {},
   "source": [
    "**Описание**\n",
    "\n",
    "<img src=\"./img/setdescription.png\" width=\"500\" align=\"left\">"
   ]
  },
  {
   "cell_type": "markdown",
   "metadata": {},
   "source": [
    "Описание появится в самом начале чата с ботом.\n",
    "\n",
    "<img src=\"./img/descr.png\" width=\"500\" align=\"left\">"
   ]
  }
 ],
 "metadata": {
  "kernelspec": {
   "display_name": "Python 3",
   "language": "python",
   "name": "python3"
  },
  "language_info": {
   "codemirror_mode": {
    "name": "ipython",
    "version": 3
   },
   "file_extension": ".py",
   "mimetype": "text/x-python",
   "name": "python",
   "nbconvert_exporter": "python",
   "pygments_lexer": "ipython3",
   "version": "3.7.6"
  }
 },
 "nbformat": 4,
 "nbformat_minor": 2
}
